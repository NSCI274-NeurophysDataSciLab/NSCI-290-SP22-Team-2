{
 "cells": [
  {
   "cell_type": "markdown",
   "metadata": {},
   "source": [
    "# Week 7 Pre-Lab: Filtering Sessions and Units for VIP Neurons in the Visual Cortex"
   ]
  },
  {
   "cell_type": "markdown",
   "metadata": {},
   "source": [
    "### Names: Nik Sachdeva, Tamilore Kolawole, Annelle McNair, Husna Kider\n",
    "\n",
    "\n",
    "### Date: 2/22/2022\n",
    "\n",
    "\n",
    "### PIDs: 730272545, 730322641, 730229248, 730401081\n",
    "\n",
    "\n",
    "### Jupyter Notebook Number: 4"
   ]
  },
  {
   "cell_type": "markdown",
   "metadata": {},
   "source": [
    "## Purpose/Objective:\n",
    "This week our objective is to filter sessions and units corresponding to male and female VIP-Cre genotypes in the visual cortex from Neuropixels data. In order to find Unit IDs corresponding to VIP+ cells, we will undergo optotagging analysis to identify the types of optotagging stimuli used by the Allen Institute, align spikes to light pulses, and create an array of Unit IDs representing units with a light-evoked increase in firing rate. Additionally, we will troubleshoot code that does not run. "
   ]
  },
  {
   "cell_type": "markdown",
   "metadata": {},
   "source": [
    "## Protocol:\n",
    "1. Install/upgrade pip, install allensdk, import necessary libraries\n",
    "2. Filter sesssions data for male and female subjects with a VIP genotype within the primary visual cortex.\n",
    "3. Compare optotagging stimuli conditions and filter experiments to determine which ones incorporated a laser.\n",
    "4. Align spikes to light pusles by returning a DataArray  \n",
    "5. Create an array of Unit IDs for the subset of units with light-evoked increases in firing rate.\n"
   ]
  },
  {
   "cell_type": "markdown",
   "metadata": {},
   "source": [
    "## Expected Results:\n",
    "We expect to output tables of data corresponding to filtered sessions for male and female VIP genotype data in the primary visual cortex region. In addition, we expect to output tables showing the optotagging stimuli conditions used for a particular VIP session as well as output an array identifying which experiments used a laser instead of an LED. A plot showing the average firing rate over time for units from the visual cortex  will also be expected to output. Finally, we expect to plot the subset of units with a light-evoked increase in firing rate, and return an array of these VIP+ units."
   ]
  },
  {
   "cell_type": "markdown",
   "metadata": {},
   "source": [
    "### Installing AllenSDK into your local environment. "
   ]
  },
  {
   "cell_type": "code",
   "execution_count": null,
   "metadata": {},
   "outputs": [],
   "source": [
    "pip install --upgrade pip"
   ]
  },
  {
   "cell_type": "code",
   "execution_count": 1,
   "metadata": {},
   "outputs": [
    {
     "name": "stdout",
     "output_type": "stream",
     "text": [
      "Defaulting to user installation because normal site-packages is not writeable\n",
      "Requirement already satisfied: allensdk in ./.local/lib/python3.7/site-packages (2.13.2)\n",
      "Requirement already satisfied: matplotlib<3.4.3,>=1.4.3 in /nas/longleaf/apps/anaconda/2019.10.ood/lib/python3.7/site-packages (from allensdk) (3.1.1)\n",
      "Requirement already satisfied: requests-toolbelt<1.0.0 in ./.local/lib/python3.7/site-packages (from allensdk) (0.9.1)\n",
      "Requirement already satisfied: xarray<0.16.0 in ./.local/lib/python3.7/site-packages (from allensdk) (0.15.1)\n",
      "Requirement already satisfied: future<1.0.0,>=0.14.3 in ./.local/lib/python3.7/site-packages (from allensdk) (0.18.2)\n",
      "Requirement already satisfied: hdmf>=2.5.8 in ./.local/lib/python3.7/site-packages (from allensdk) (3.1.1)\n",
      "Requirement already satisfied: h5py in ./.local/lib/python3.7/site-packages (from allensdk) (3.6.0)\n",
      "Requirement already satisfied: seaborn<1.0.0 in /nas/longleaf/apps/anaconda/2019.10.ood/lib/python3.7/site-packages (from allensdk) (0.9.0)\n",
      "Requirement already satisfied: scikit-image<0.17.0,>=0.14.0 in ./.local/lib/python3.7/site-packages (from allensdk) (0.16.2)\n",
      "Requirement already satisfied: semver in ./.local/lib/python3.7/site-packages (from allensdk) (2.13.0)\n",
      "Requirement already satisfied: numpy in ./.local/lib/python3.7/site-packages (from allensdk) (1.21.5)\n",
      "Requirement already satisfied: six<2.0.0,>=1.9.0 in /nas/longleaf/apps/anaconda/2019.10.ood/lib/python3.7/site-packages (from allensdk) (1.15.0)\n",
      "Requirement already satisfied: nest-asyncio in /nas/longleaf/apps/anaconda/2019.10.ood/lib/python3.7/site-packages (from allensdk) (1.4.2)\n",
      "Requirement already satisfied: pynrrd<1.0.0,>=0.2.1 in ./.local/lib/python3.7/site-packages (from allensdk) (0.4.2)\n",
      "Requirement already satisfied: jinja2<2.12.0,>=2.7.3 in /nas/longleaf/apps/anaconda/2019.10.ood/lib/python3.7/site-packages (from allensdk) (2.11.2)\n",
      "Requirement already satisfied: pandas>=1.1.5 in ./.local/lib/python3.7/site-packages (from allensdk) (1.3.5)\n",
      "Requirement already satisfied: psycopg2-binary<3.0.0,>=2.7 in ./.local/lib/python3.7/site-packages (from allensdk) (2.9.3)\n",
      "Requirement already satisfied: argschema<4.0.0,>=3.0.1 in ./.local/lib/python3.7/site-packages (from allensdk) (3.0.1)\n",
      "Requirement already satisfied: glymur==0.8.19 in ./.local/lib/python3.7/site-packages (from allensdk) (0.8.19)\n",
      "Requirement already satisfied: scipy<2.0.0,>=1.4.0 in /nas/longleaf/apps/anaconda/2019.10.ood/lib/python3.7/site-packages (from allensdk) (1.7.1)\n",
      "Requirement already satisfied: pynwb in ./.local/lib/python3.7/site-packages (from allensdk) (2.0.0)\n",
      "Requirement already satisfied: aiohttp==3.7.4 in ./.local/lib/python3.7/site-packages (from allensdk) (3.7.4)\n",
      "Requirement already satisfied: scikit-build<1.0.0 in ./.local/lib/python3.7/site-packages (from allensdk) (0.12.0)\n",
      "Requirement already satisfied: boto3==1.17.21 in ./.local/lib/python3.7/site-packages (from allensdk) (1.17.21)\n",
      "Requirement already satisfied: requests<3.0.0 in ./.local/lib/python3.7/site-packages (from allensdk) (2.27.1)\n",
      "Requirement already satisfied: statsmodels<=0.13.0 in ./.local/lib/python3.7/site-packages (from allensdk) (0.13.0)\n",
      "Requirement already satisfied: cachetools<5.0.0,>=4.2.1 in ./.local/lib/python3.7/site-packages (from allensdk) (4.2.4)\n",
      "Requirement already satisfied: simplejson<4.0.0,>=3.10.0 in ./.local/lib/python3.7/site-packages (from allensdk) (3.17.6)\n",
      "Requirement already satisfied: ndx-events<=0.2.0 in ./.local/lib/python3.7/site-packages (from allensdk) (0.2.0)\n",
      "Requirement already satisfied: tables<3.7.0,>=3.6.0 in ./.local/lib/python3.7/site-packages (from allensdk) (3.6.1)\n",
      "Requirement already satisfied: tqdm>=4.27 in ./.local/lib/python3.7/site-packages (from allensdk) (4.62.3)\n",
      "Requirement already satisfied: simpleitk<3.0.0,>=2.0.2 in ./.local/lib/python3.7/site-packages (from allensdk) (2.1.1)\n",
      "Requirement already satisfied: typing-extensions>=3.6.5 in /nas/longleaf/apps/anaconda/2019.10.ood/lib/python3.7/site-packages (from aiohttp==3.7.4->allensdk) (3.7.4.3)\n",
      "Requirement already satisfied: multidict<7.0,>=4.5 in ./.local/lib/python3.7/site-packages (from aiohttp==3.7.4->allensdk) (6.0.2)\n",
      "Requirement already satisfied: chardet<4.0,>=2.0 in ./.local/lib/python3.7/site-packages (from aiohttp==3.7.4->allensdk) (3.0.4)\n",
      "Requirement already satisfied: async-timeout<4.0,>=3.0 in ./.local/lib/python3.7/site-packages (from aiohttp==3.7.4->allensdk) (3.0.1)\n",
      "Requirement already satisfied: yarl<2.0,>=1.0 in ./.local/lib/python3.7/site-packages (from aiohttp==3.7.4->allensdk) (1.7.2)\n",
      "Requirement already satisfied: attrs>=17.3.0 in /nas/longleaf/apps/anaconda/2019.10.ood/lib/python3.7/site-packages (from aiohttp==3.7.4->allensdk) (19.3.0)\n",
      "Requirement already satisfied: s3transfer<0.4.0,>=0.3.0 in ./.local/lib/python3.7/site-packages (from boto3==1.17.21->allensdk) (0.3.7)\n",
      "Requirement already satisfied: botocore<1.21.0,>=1.20.21 in ./.local/lib/python3.7/site-packages (from boto3==1.17.21->allensdk) (1.20.112)\n",
      "Requirement already satisfied: jmespath<1.0.0,>=0.7.1 in ./.local/lib/python3.7/site-packages (from boto3==1.17.21->allensdk) (0.10.0)\n",
      "Requirement already satisfied: setuptools in /nas/longleaf/apps/anaconda/2019.10.ood/lib/python3.7/site-packages (from glymur==0.8.19->allensdk) (49.6.0.post20200814)\n",
      "Requirement already satisfied: marshmallow<4.0,>=3.0.0 in ./.local/lib/python3.7/site-packages (from argschema<4.0.0,>=3.0.1->allensdk) (3.14.1)\n",
      "Requirement already satisfied: pyyaml in ./.local/lib/python3.7/site-packages (from argschema<4.0.0,>=3.0.1->allensdk) (6.0)\n",
      "Requirement already satisfied: jsonschema<4,>=2.6.0 in /nas/longleaf/apps/anaconda/2019.10.ood/lib/python3.7/site-packages (from hdmf>=2.5.8->allensdk) (3.0.2)\n",
      "Collecting ruamel.yaml<1,>=0.16\n",
      "  Using cached ruamel.yaml-0.17.21-py3-none-any.whl (109 kB)\n",
      "Requirement already satisfied: cached-property in ./.local/lib/python3.7/site-packages (from h5py->allensdk) (1.5.2)\n",
      "Requirement already satisfied: MarkupSafe>=0.23 in /nas/longleaf/apps/anaconda/2019.10.ood/lib/python3.7/site-packages (from jinja2<2.12.0,>=2.7.3->allensdk) (1.1.1)\n",
      "Requirement already satisfied: cycler>=0.10 in /nas/longleaf/apps/anaconda/2019.10.ood/lib/python3.7/site-packages (from matplotlib<3.4.3,>=1.4.3->allensdk) (0.10.0)\n",
      "Requirement already satisfied: kiwisolver>=1.0.1 in /nas/longleaf/apps/anaconda/2019.10.ood/lib/python3.7/site-packages (from matplotlib<3.4.3,>=1.4.3->allensdk) (1.1.0)\n",
      "Requirement already satisfied: pyparsing!=2.0.4,!=2.1.2,!=2.1.6,>=2.0.1 in /nas/longleaf/apps/anaconda/2019.10.ood/lib/python3.7/site-packages (from matplotlib<3.4.3,>=1.4.3->allensdk) (2.4.7)\n",
      "Requirement already satisfied: python-dateutil>=2.1 in /nas/longleaf/apps/anaconda/2019.10.ood/lib/python3.7/site-packages (from matplotlib<3.4.3,>=1.4.3->allensdk) (2.8.1)\n",
      "Requirement already satisfied: pytz>=2017.3 in /nas/longleaf/apps/anaconda/2019.10.ood/lib/python3.7/site-packages (from pandas>=1.1.5->allensdk) (2020.1)\n",
      "Requirement already satisfied: urllib3<1.27,>=1.21.1 in ./.local/lib/python3.7/site-packages (from requests<3.0.0->allensdk) (1.26.8)\n",
      "Requirement already satisfied: charset-normalizer~=2.0.0 in ./.local/lib/python3.7/site-packages (from requests<3.0.0->allensdk) (2.0.10)\n",
      "Requirement already satisfied: idna<4,>=2.5 in ./.local/lib/python3.7/site-packages (from requests<3.0.0->allensdk) (3.3)\n",
      "Requirement already satisfied: certifi>=2017.4.17 in /nas/longleaf/apps/anaconda/2019.10.ood/lib/python3.7/site-packages (from requests<3.0.0->allensdk) (2019.11.28)\n",
      "Requirement already satisfied: wheel>=0.29.0 in /nas/longleaf/apps/anaconda/2019.10.ood/lib/python3.7/site-packages (from scikit-build<1.0.0->allensdk) (0.34.2)\n",
      "Requirement already satisfied: distro in ./.local/lib/python3.7/site-packages (from scikit-build<1.0.0->allensdk) (1.6.0)\n",
      "Requirement already satisfied: packaging in /nas/longleaf/apps/anaconda/2019.10.ood/lib/python3.7/site-packages (from scikit-build<1.0.0->allensdk) (20.4)\n",
      "Requirement already satisfied: imageio>=2.3.0 in ./.local/lib/python3.7/site-packages (from scikit-image<0.17.0,>=0.14.0->allensdk) (2.14.1)\n",
      "Requirement already satisfied: pillow>=4.3.0 in ./.local/lib/python3.7/site-packages (from scikit-image<0.17.0,>=0.14.0->allensdk) (9.0.0)\n",
      "Requirement already satisfied: PyWavelets>=0.4.0 in ./.local/lib/python3.7/site-packages (from scikit-image<0.17.0,>=0.14.0->allensdk) (1.2.0)\n",
      "Requirement already satisfied: networkx>=2.0 in ./.local/lib/python3.7/site-packages (from scikit-image<0.17.0,>=0.14.0->allensdk) (2.6.3)\n",
      "Requirement already satisfied: patsy>=0.5.2 in ./.local/lib/python3.7/site-packages (from statsmodels<=0.13.0->allensdk) (0.5.2)\n",
      "Requirement already satisfied: numexpr>=2.6.2 in ./.local/lib/python3.7/site-packages (from tables<3.7.0,>=3.6.0->allensdk) (2.8.1)\n",
      "Requirement already satisfied: pyrsistent>=0.14.0 in /nas/longleaf/apps/anaconda/2019.10.ood/lib/python3.7/site-packages (from jsonschema<4,>=2.6.0->hdmf>=2.5.8->allensdk) (0.16.0)\n",
      "Requirement already satisfied: ruamel.yaml.clib>=0.2.6 in ./.local/lib/python3.7/site-packages (from ruamel.yaml<1,>=0.16->hdmf>=2.5.8->allensdk) (0.2.6)\n",
      "Installing collected packages: ruamel.yaml\n",
      "\u001b[31mERROR: pip's dependency resolver does not currently take into account all the packages that are installed. This behaviour is the source of the following dependency conflicts.\n",
      "deeplabcut 2.1.6.2 requires h5py~=2.7, but you have h5py 3.6.0 which is incompatible.\n",
      "deeplabcut 2.1.6.2 requires matplotlib==3.0.3, but you have matplotlib 3.1.1 which is incompatible.\n",
      "deeplabcut 2.1.6.2 requires numpy==1.16.4, but you have numpy 1.21.5 which is incompatible.\u001b[0m\u001b[31m\n",
      "\u001b[0mSuccessfully installed ruamel.yaml-0.17.21\n",
      "Note: you may need to restart the kernel to use updated packages.\n"
     ]
    }
   ],
   "source": [
    "pip install allensdk"
   ]
  },
  {
   "cell_type": "markdown",
   "metadata": {},
   "source": [
    "### Import Packages:"
   ]
  },
  {
   "cell_type": "code",
   "execution_count": 2,
   "metadata": {},
   "outputs": [],
   "source": [
    "import os\n",
    "import shutil\n",
    "import allensdk\n",
    "import pprint\n",
    "from pathlib import Path\n",
    "\n",
    "import numpy as np\n",
    "import scipy.stats\n",
    "import pandas as pd\n",
    "\n",
    "import matplotlib.pyplot as plt\n",
    "%matplotlib inline\n",
    "import seaborn as sns\n",
    "sns.set_context('notebook', font_scale=1.5, rc={'lines.markeredgewidth': 2})"
   ]
  },
  {
   "cell_type": "markdown",
   "metadata": {},
   "source": [
    "### If working with Visual Coding: Neuropixels Data use the following code block to import the cache object and point it to the data already downloaded and stored on LongLeaf.  Do not change this code."
   ]
  },
  {
   "cell_type": "markdown",
   "metadata": {},
   "source": [
    "The following code block was run because our group will be looking at neuropixel data. The code for two-photon imaging was not run."
   ]
  },
  {
   "cell_type": "code",
   "execution_count": 3,
   "metadata": {},
   "outputs": [],
   "source": [
    "#this code block should only be run if you are working with the neuropixels data\n",
    "from allensdk.brain_observatory.ecephys.ecephys_project_cache import EcephysProjectCache\n",
    "\n",
    "data_directory = '/overflow/NSCI274/projects/ecephysdata/' \n",
    "\n",
    "manifest_path = os.path.join(data_directory, \"manifest.json\")\n",
    "\n",
    "cache = EcephysProjectCache.from_warehouse(manifest=manifest_path)"
   ]
  },
  {
   "cell_type": "markdown",
   "metadata": {},
   "source": [
    "### If working with Visual Coding: 2P Ca2+ Imaging Data use the following code block to import the cache object and point it to the data already downloaded and stored on LongLeaf.  Do not change this code."
   ]
  },
  {
   "cell_type": "markdown",
   "metadata": {},
   "source": [
    "THE BELOW CODE CELL WAS NOT RUN."
   ]
  },
  {
   "cell_type": "code",
   "execution_count": null,
   "metadata": {},
   "outputs": [],
   "source": [
    "#this code block should only be run if you are working with the brain observatory Ca2+ imaging data\n",
    "from allensdk.core.brain_observatory_cache import BrainObservatoryCache\n",
    "\n",
    "drive_path = '/overflow/NSCI274/projects/BrainObservatoryOPhysData/'\n",
    "\n",
    "manifest_file = os.path.join(drive_path,'manifest.json')\n",
    "\n",
    "boc = BrainObservatoryCache(manifest_file=manifest_file)"
   ]
  },
  {
   "cell_type": "markdown",
   "metadata": {},
   "source": [
    "### If working with Visual Behavior: 2P Ca2+ Imaging Data use the following code block to import the cache object and point it to the data already downloaded and stored on LongLeaf.  Do not change this code."
   ]
  },
  {
   "cell_type": "markdown",
   "metadata": {},
   "source": [
    "THE BELOW CODE CELL WAS NOT RUN."
   ]
  },
  {
   "cell_type": "code",
   "execution_count": null,
   "metadata": {},
   "outputs": [],
   "source": [
    "#this code block should only be run if you are working with the visual behavior Ca2+ imaging data\n",
    "from allensdk.brain_observatory.behavior.behavior_project_cache import VisualBehaviorOphysProjectCache\n",
    "\n",
    "data_storage_directory = Path(\"/overflow/NSCI274/projects/ophysdata\")\n",
    "\n",
    "cache = VisualBehaviorOphysProjectCache.from_s3_cache(cache_dir=data_storage_directory)"
   ]
  },
  {
   "cell_type": "markdown",
   "metadata": {},
   "source": [
    "## Filtering Sessions For Males and Females\n"
   ]
  },
  {
   "cell_type": "markdown",
   "metadata": {},
   "source": [
    "### Research Proposal\n",
    "    \"examining sex differences in the detection of novel images by VIP inhibitory neurons in the mouse visual cortex\"\n"
   ]
  },
  {
   "cell_type": "markdown",
   "metadata": {},
   "source": [
    "The following code cell delineates the regions of the brain as provided in the dataset."
   ]
  },
  {
   "cell_type": "code",
   "execution_count": null,
   "metadata": {},
   "outputs": [],
   "source": [
    "regions = ['V1','LM','RL','AL','PM','AM']"
   ]
  },
  {
   "cell_type": "markdown",
   "metadata": {},
   "source": [
    "The following code cell's purpose is filtering for gender differences/which neurons we are targeting in the primary visual cortex."
   ]
  },
  {
   "cell_type": "code",
   "execution_count": 4,
   "metadata": {},
   "outputs": [
    {
     "name": "stdout",
     "output_type": "stream",
     "text": [
      "Total number of sessions: 58\n"
     ]
    },
    {
     "data": {
      "text/html": [
       "<div>\n",
       "<style scoped>\n",
       "    .dataframe tbody tr th:only-of-type {\n",
       "        vertical-align: middle;\n",
       "    }\n",
       "\n",
       "    .dataframe tbody tr th {\n",
       "        vertical-align: top;\n",
       "    }\n",
       "\n",
       "    .dataframe thead th {\n",
       "        text-align: right;\n",
       "    }\n",
       "</style>\n",
       "<table border=\"1\" class=\"dataframe\">\n",
       "  <thead>\n",
       "    <tr style=\"text-align: right;\">\n",
       "      <th></th>\n",
       "      <th>published_at</th>\n",
       "      <th>specimen_id</th>\n",
       "      <th>session_type</th>\n",
       "      <th>age_in_days</th>\n",
       "      <th>sex</th>\n",
       "      <th>full_genotype</th>\n",
       "      <th>unit_count</th>\n",
       "      <th>channel_count</th>\n",
       "      <th>probe_count</th>\n",
       "      <th>ecephys_structure_acronyms</th>\n",
       "    </tr>\n",
       "    <tr>\n",
       "      <th>id</th>\n",
       "      <th></th>\n",
       "      <th></th>\n",
       "      <th></th>\n",
       "      <th></th>\n",
       "      <th></th>\n",
       "      <th></th>\n",
       "      <th></th>\n",
       "      <th></th>\n",
       "      <th></th>\n",
       "      <th></th>\n",
       "    </tr>\n",
       "  </thead>\n",
       "  <tbody>\n",
       "    <tr>\n",
       "      <th>715093703</th>\n",
       "      <td>2019-10-03T00:00:00Z</td>\n",
       "      <td>699733581</td>\n",
       "      <td>brain_observatory_1.1</td>\n",
       "      <td>118.0</td>\n",
       "      <td>M</td>\n",
       "      <td>Sst-IRES-Cre/wt;Ai32(RCL-ChR2(H134R)_EYFP)/wt</td>\n",
       "      <td>884</td>\n",
       "      <td>2219</td>\n",
       "      <td>6</td>\n",
       "      <td>[CA1, VISrl, nan, PO, LP, LGd, CA3, DG, VISl, ...</td>\n",
       "    </tr>\n",
       "    <tr>\n",
       "      <th>719161530</th>\n",
       "      <td>2019-10-03T00:00:00Z</td>\n",
       "      <td>703279284</td>\n",
       "      <td>brain_observatory_1.1</td>\n",
       "      <td>122.0</td>\n",
       "      <td>M</td>\n",
       "      <td>Sst-IRES-Cre/wt;Ai32(RCL-ChR2(H134R)_EYFP)/wt</td>\n",
       "      <td>755</td>\n",
       "      <td>2214</td>\n",
       "      <td>6</td>\n",
       "      <td>[TH, Eth, APN, POL, LP, DG, CA1, VISpm, nan, N...</td>\n",
       "    </tr>\n",
       "    <tr>\n",
       "      <th>721123822</th>\n",
       "      <td>2019-10-03T00:00:00Z</td>\n",
       "      <td>707296982</td>\n",
       "      <td>brain_observatory_1.1</td>\n",
       "      <td>125.0</td>\n",
       "      <td>M</td>\n",
       "      <td>Pvalb-IRES-Cre/wt;Ai32(RCL-ChR2(H134R)_EYFP)/wt</td>\n",
       "      <td>444</td>\n",
       "      <td>2229</td>\n",
       "      <td>6</td>\n",
       "      <td>[MB, SCig, PPT, NOT, DG, CA1, VISam, nan, LP, ...</td>\n",
       "    </tr>\n",
       "    <tr>\n",
       "      <th>732592105</th>\n",
       "      <td>2019-10-03T00:00:00Z</td>\n",
       "      <td>717038288</td>\n",
       "      <td>brain_observatory_1.1</td>\n",
       "      <td>100.0</td>\n",
       "      <td>M</td>\n",
       "      <td>wt/wt</td>\n",
       "      <td>824</td>\n",
       "      <td>1847</td>\n",
       "      <td>5</td>\n",
       "      <td>[grey, VISpm, nan, VISp, VISl, VISal, VISrl]</td>\n",
       "    </tr>\n",
       "    <tr>\n",
       "      <th>737581020</th>\n",
       "      <td>2019-10-03T00:00:00Z</td>\n",
       "      <td>718643567</td>\n",
       "      <td>brain_observatory_1.1</td>\n",
       "      <td>108.0</td>\n",
       "      <td>M</td>\n",
       "      <td>wt/wt</td>\n",
       "      <td>568</td>\n",
       "      <td>2218</td>\n",
       "      <td>6</td>\n",
       "      <td>[grey, VISmma, nan, VISpm, VISp, VISl, VISrl]</td>\n",
       "    </tr>\n",
       "  </tbody>\n",
       "</table>\n",
       "</div>"
      ],
      "text/plain": [
       "                   published_at  specimen_id           session_type  \\\n",
       "id                                                                    \n",
       "715093703  2019-10-03T00:00:00Z    699733581  brain_observatory_1.1   \n",
       "719161530  2019-10-03T00:00:00Z    703279284  brain_observatory_1.1   \n",
       "721123822  2019-10-03T00:00:00Z    707296982  brain_observatory_1.1   \n",
       "732592105  2019-10-03T00:00:00Z    717038288  brain_observatory_1.1   \n",
       "737581020  2019-10-03T00:00:00Z    718643567  brain_observatory_1.1   \n",
       "\n",
       "           age_in_days sex                                    full_genotype  \\\n",
       "id                                                                            \n",
       "715093703        118.0   M    Sst-IRES-Cre/wt;Ai32(RCL-ChR2(H134R)_EYFP)/wt   \n",
       "719161530        122.0   M    Sst-IRES-Cre/wt;Ai32(RCL-ChR2(H134R)_EYFP)/wt   \n",
       "721123822        125.0   M  Pvalb-IRES-Cre/wt;Ai32(RCL-ChR2(H134R)_EYFP)/wt   \n",
       "732592105        100.0   M                                            wt/wt   \n",
       "737581020        108.0   M                                            wt/wt   \n",
       "\n",
       "           unit_count  channel_count  probe_count  \\\n",
       "id                                                  \n",
       "715093703         884           2219            6   \n",
       "719161530         755           2214            6   \n",
       "721123822         444           2229            6   \n",
       "732592105         824           1847            5   \n",
       "737581020         568           2218            6   \n",
       "\n",
       "                                  ecephys_structure_acronyms  \n",
       "id                                                            \n",
       "715093703  [CA1, VISrl, nan, PO, LP, LGd, CA3, DG, VISl, ...  \n",
       "719161530  [TH, Eth, APN, POL, LP, DG, CA1, VISpm, nan, N...  \n",
       "721123822  [MB, SCig, PPT, NOT, DG, CA1, VISam, nan, LP, ...  \n",
       "732592105       [grey, VISpm, nan, VISp, VISl, VISal, VISrl]  \n",
       "737581020      [grey, VISmma, nan, VISpm, VISp, VISl, VISrl]  "
      ]
     },
     "execution_count": 4,
     "metadata": {},
     "output_type": "execute_result"
    }
   ],
   "source": [
    "sessions = cache.get_session_table()\n",
    "\n",
    "print('Total number of sessions: ' + str(len(sessions)))\n",
    "\n",
    "sessions.head()"
   ]
  },
  {
   "cell_type": "code",
   "execution_count": 5,
   "metadata": {},
   "outputs": [
    {
     "name": "stdout",
     "output_type": "stream",
     "text": [
      "Total number of sessions: 3\n"
     ]
    },
    {
     "data": {
      "text/html": [
       "<div>\n",
       "<style scoped>\n",
       "    .dataframe tbody tr th:only-of-type {\n",
       "        vertical-align: middle;\n",
       "    }\n",
       "\n",
       "    .dataframe tbody tr th {\n",
       "        vertical-align: top;\n",
       "    }\n",
       "\n",
       "    .dataframe thead th {\n",
       "        text-align: right;\n",
       "    }\n",
       "</style>\n",
       "<table border=\"1\" class=\"dataframe\">\n",
       "  <thead>\n",
       "    <tr style=\"text-align: right;\">\n",
       "      <th></th>\n",
       "      <th>published_at</th>\n",
       "      <th>specimen_id</th>\n",
       "      <th>session_type</th>\n",
       "      <th>age_in_days</th>\n",
       "      <th>sex</th>\n",
       "      <th>full_genotype</th>\n",
       "      <th>unit_count</th>\n",
       "      <th>channel_count</th>\n",
       "      <th>probe_count</th>\n",
       "      <th>ecephys_structure_acronyms</th>\n",
       "    </tr>\n",
       "    <tr>\n",
       "      <th>id</th>\n",
       "      <th></th>\n",
       "      <th></th>\n",
       "      <th></th>\n",
       "      <th></th>\n",
       "      <th></th>\n",
       "      <th></th>\n",
       "      <th></th>\n",
       "      <th></th>\n",
       "      <th></th>\n",
       "      <th></th>\n",
       "    </tr>\n",
       "  </thead>\n",
       "  <tbody>\n",
       "    <tr>\n",
       "      <th>755434585</th>\n",
       "      <td>2019-10-03T00:00:00Z</td>\n",
       "      <td>730760270</td>\n",
       "      <td>brain_observatory_1.1</td>\n",
       "      <td>100.0</td>\n",
       "      <td>M</td>\n",
       "      <td>Vip-IRES-Cre/wt;Ai32(RCL-ChR2(H134R)_EYFP)/wt</td>\n",
       "      <td>650</td>\n",
       "      <td>2220</td>\n",
       "      <td>6</td>\n",
       "      <td>[grey, VISrl, nan, MGv, MGd, TH, LGd, CA3, DG,...</td>\n",
       "    </tr>\n",
       "    <tr>\n",
       "      <th>762120172</th>\n",
       "      <td>2019-10-03T00:00:00Z</td>\n",
       "      <td>745276236</td>\n",
       "      <td>brain_observatory_1.1</td>\n",
       "      <td>100.0</td>\n",
       "      <td>M</td>\n",
       "      <td>Vip-IRES-Cre/wt;Ai32(RCL-ChR2(H134R)_EYFP)/wt</td>\n",
       "      <td>717</td>\n",
       "      <td>1860</td>\n",
       "      <td>5</td>\n",
       "      <td>[grey, VISal, nan, VISl, VISp, VIS, VISam]</td>\n",
       "    </tr>\n",
       "    <tr>\n",
       "      <th>791319847</th>\n",
       "      <td>2019-10-03T00:00:00Z</td>\n",
       "      <td>769360779</td>\n",
       "      <td>brain_observatory_1.1</td>\n",
       "      <td>116.0</td>\n",
       "      <td>M</td>\n",
       "      <td>Vip-IRES-Cre/wt;Ai32(RCL-ChR2(H134R)_EYFP)/wt</td>\n",
       "      <td>555</td>\n",
       "      <td>2229</td>\n",
       "      <td>6</td>\n",
       "      <td>[APN, DG, CA1, VISam, nan, LP, TH, VISpm, POL,...</td>\n",
       "    </tr>\n",
       "  </tbody>\n",
       "</table>\n",
       "</div>"
      ],
      "text/plain": [
       "                   published_at  specimen_id           session_type  \\\n",
       "id                                                                    \n",
       "755434585  2019-10-03T00:00:00Z    730760270  brain_observatory_1.1   \n",
       "762120172  2019-10-03T00:00:00Z    745276236  brain_observatory_1.1   \n",
       "791319847  2019-10-03T00:00:00Z    769360779  brain_observatory_1.1   \n",
       "\n",
       "           age_in_days sex                                  full_genotype  \\\n",
       "id                                                                          \n",
       "755434585        100.0   M  Vip-IRES-Cre/wt;Ai32(RCL-ChR2(H134R)_EYFP)/wt   \n",
       "762120172        100.0   M  Vip-IRES-Cre/wt;Ai32(RCL-ChR2(H134R)_EYFP)/wt   \n",
       "791319847        116.0   M  Vip-IRES-Cre/wt;Ai32(RCL-ChR2(H134R)_EYFP)/wt   \n",
       "\n",
       "           unit_count  channel_count  probe_count  \\\n",
       "id                                                  \n",
       "755434585         650           2220            6   \n",
       "762120172         717           1860            5   \n",
       "791319847         555           2229            6   \n",
       "\n",
       "                                  ecephys_structure_acronyms  \n",
       "id                                                            \n",
       "755434585  [grey, VISrl, nan, MGv, MGd, TH, LGd, CA3, DG,...  \n",
       "762120172         [grey, VISal, nan, VISl, VISp, VIS, VISam]  \n",
       "791319847  [APN, DG, CA1, VISam, nan, LP, TH, VISpm, POL,...  "
      ]
     },
     "execution_count": 5,
     "metadata": {},
     "output_type": "execute_result"
    }
   ],
   "source": [
    "filtered_sessions_male_target_VISp = sessions[(sessions.sex == 'M') & \\\n",
    "                             (sessions.full_genotype.str.find('Vip') > -1) & \\\n",
    "                             (sessions.session_type == 'brain_observatory_1.1') & \\\n",
    "                             (['VISp' in acronyms for acronyms in \n",
    "                               sessions.ecephys_structure_acronyms])]\n",
    "print('Total number of sessions: ' + str(len(filtered_sessions_male_target_VISp)))\n",
    "filtered_sessions_male_target_VISp.head()"
   ]
  },
  {
   "cell_type": "code",
   "execution_count": 6,
   "metadata": {},
   "outputs": [
    {
     "name": "stdout",
     "output_type": "stream",
     "text": [
      "Total number of sessions: 2\n"
     ]
    },
    {
     "data": {
      "text/html": [
       "<div>\n",
       "<style scoped>\n",
       "    .dataframe tbody tr th:only-of-type {\n",
       "        vertical-align: middle;\n",
       "    }\n",
       "\n",
       "    .dataframe tbody tr th {\n",
       "        vertical-align: top;\n",
       "    }\n",
       "\n",
       "    .dataframe thead th {\n",
       "        text-align: right;\n",
       "    }\n",
       "</style>\n",
       "<table border=\"1\" class=\"dataframe\">\n",
       "  <thead>\n",
       "    <tr style=\"text-align: right;\">\n",
       "      <th></th>\n",
       "      <th>published_at</th>\n",
       "      <th>specimen_id</th>\n",
       "      <th>session_type</th>\n",
       "      <th>age_in_days</th>\n",
       "      <th>sex</th>\n",
       "      <th>full_genotype</th>\n",
       "      <th>unit_count</th>\n",
       "      <th>channel_count</th>\n",
       "      <th>probe_count</th>\n",
       "      <th>ecephys_structure_acronyms</th>\n",
       "    </tr>\n",
       "    <tr>\n",
       "      <th>id</th>\n",
       "      <th></th>\n",
       "      <th></th>\n",
       "      <th></th>\n",
       "      <th></th>\n",
       "      <th></th>\n",
       "      <th></th>\n",
       "      <th></th>\n",
       "      <th></th>\n",
       "      <th></th>\n",
       "      <th></th>\n",
       "    </tr>\n",
       "  </thead>\n",
       "  <tbody>\n",
       "    <tr>\n",
       "      <th>751348571</th>\n",
       "      <td>2019-10-03T00:00:00Z</td>\n",
       "      <td>732548380</td>\n",
       "      <td>brain_observatory_1.1</td>\n",
       "      <td>93.0</td>\n",
       "      <td>F</td>\n",
       "      <td>Vip-IRES-Cre/wt;Ai32(RCL-ChR2(H134R)_EYFP)/wt</td>\n",
       "      <td>859</td>\n",
       "      <td>2217</td>\n",
       "      <td>6</td>\n",
       "      <td>[grey, LGv, CA3, DG, CA1, VISl, nan, APN, POL,...</td>\n",
       "    </tr>\n",
       "    <tr>\n",
       "      <th>798911424</th>\n",
       "      <td>2019-10-03T00:00:00Z</td>\n",
       "      <td>775876828</td>\n",
       "      <td>brain_observatory_1.1</td>\n",
       "      <td>110.0</td>\n",
       "      <td>F</td>\n",
       "      <td>Vip-IRES-Cre/wt;Ai32(RCL-ChR2(H134R)_EYFP)/wt</td>\n",
       "      <td>825</td>\n",
       "      <td>2233</td>\n",
       "      <td>6</td>\n",
       "      <td>[APN, TH, Eth, LP, DG, HPF, CA3, CA1, VISrl, n...</td>\n",
       "    </tr>\n",
       "  </tbody>\n",
       "</table>\n",
       "</div>"
      ],
      "text/plain": [
       "                   published_at  specimen_id           session_type  \\\n",
       "id                                                                    \n",
       "751348571  2019-10-03T00:00:00Z    732548380  brain_observatory_1.1   \n",
       "798911424  2019-10-03T00:00:00Z    775876828  brain_observatory_1.1   \n",
       "\n",
       "           age_in_days sex                                  full_genotype  \\\n",
       "id                                                                          \n",
       "751348571         93.0   F  Vip-IRES-Cre/wt;Ai32(RCL-ChR2(H134R)_EYFP)/wt   \n",
       "798911424        110.0   F  Vip-IRES-Cre/wt;Ai32(RCL-ChR2(H134R)_EYFP)/wt   \n",
       "\n",
       "           unit_count  channel_count  probe_count  \\\n",
       "id                                                  \n",
       "751348571         859           2217            6   \n",
       "798911424         825           2233            6   \n",
       "\n",
       "                                  ecephys_structure_acronyms  \n",
       "id                                                            \n",
       "751348571  [grey, LGv, CA3, DG, CA1, VISl, nan, APN, POL,...  \n",
       "798911424  [APN, TH, Eth, LP, DG, HPF, CA3, CA1, VISrl, n...  "
      ]
     },
     "execution_count": 6,
     "metadata": {},
     "output_type": "execute_result"
    }
   ],
   "source": [
    "filtered_sessions_female_target_VISp = sessions[(sessions.sex == 'F') & \\\n",
    "                             (sessions.full_genotype.str.find('Vip') > -1) & \\\n",
    "                             (sessions.session_type == 'brain_observatory_1.1') & \\\n",
    "                             (['VISp' in acronyms for acronyms in \n",
    "                               sessions.ecephys_structure_acronyms])]\n",
    "print('Total number of sessions: ' + str(len(filtered_sessions_female_target_VISp)))\n",
    "filtered_sessions_female_target_VISp.head()"
   ]
  },
  {
   "cell_type": "markdown",
   "metadata": {},
   "source": [
    "## Identifying VIP+ Cells From Optotagging Data\n"
   ]
  },
  {
   "cell_type": "markdown",
   "metadata": {},
   "source": [
    "The following code contains info about the genotypes of mice used in each experiment from the Allen Insitute. We are particlarly interested in the VIP sessions."
   ]
  },
  {
   "cell_type": "code",
   "execution_count": 7,
   "metadata": {},
   "outputs": [
    {
     "data": {
      "text/plain": [
       "wt/wt                                              30\n",
       "Sst-IRES-Cre/wt;Ai32(RCL-ChR2(H134R)_EYFP)/wt      12\n",
       "Pvalb-IRES-Cre/wt;Ai32(RCL-ChR2(H134R)_EYFP)/wt     8\n",
       "Vip-IRES-Cre/wt;Ai32(RCL-ChR2(H134R)_EYFP)/wt       8\n",
       "Name: full_genotype, dtype: int64"
      ]
     },
     "execution_count": 7,
     "metadata": {},
     "output_type": "execute_result"
    }
   ],
   "source": [
    "sessions = cache.get_session_table()\n",
    "\n",
    "sessions.full_genotype.value_counts()"
   ]
  },
  {
   "cell_type": "markdown",
   "metadata": {},
   "source": [
    "The following code filters the sessions table above in order to identify experiments performed on VIP-Cre mice."
   ]
  },
  {
   "cell_type": "code",
   "execution_count": 8,
   "metadata": {},
   "outputs": [
    {
     "data": {
      "text/html": [
       "<div>\n",
       "<style scoped>\n",
       "    .dataframe tbody tr th:only-of-type {\n",
       "        vertical-align: middle;\n",
       "    }\n",
       "\n",
       "    .dataframe tbody tr th {\n",
       "        vertical-align: top;\n",
       "    }\n",
       "\n",
       "    .dataframe thead th {\n",
       "        text-align: right;\n",
       "    }\n",
       "</style>\n",
       "<table border=\"1\" class=\"dataframe\">\n",
       "  <thead>\n",
       "    <tr style=\"text-align: right;\">\n",
       "      <th></th>\n",
       "      <th>published_at</th>\n",
       "      <th>specimen_id</th>\n",
       "      <th>session_type</th>\n",
       "      <th>age_in_days</th>\n",
       "      <th>sex</th>\n",
       "      <th>full_genotype</th>\n",
       "      <th>unit_count</th>\n",
       "      <th>channel_count</th>\n",
       "      <th>probe_count</th>\n",
       "      <th>ecephys_structure_acronyms</th>\n",
       "    </tr>\n",
       "    <tr>\n",
       "      <th>id</th>\n",
       "      <th></th>\n",
       "      <th></th>\n",
       "      <th></th>\n",
       "      <th></th>\n",
       "      <th></th>\n",
       "      <th></th>\n",
       "      <th></th>\n",
       "      <th></th>\n",
       "      <th></th>\n",
       "      <th></th>\n",
       "    </tr>\n",
       "  </thead>\n",
       "  <tbody>\n",
       "    <tr>\n",
       "      <th>751348571</th>\n",
       "      <td>2019-10-03T00:00:00Z</td>\n",
       "      <td>732548380</td>\n",
       "      <td>brain_observatory_1.1</td>\n",
       "      <td>93.0</td>\n",
       "      <td>F</td>\n",
       "      <td>Vip-IRES-Cre/wt;Ai32(RCL-ChR2(H134R)_EYFP)/wt</td>\n",
       "      <td>859</td>\n",
       "      <td>2217</td>\n",
       "      <td>6</td>\n",
       "      <td>[grey, LGv, CA3, DG, CA1, VISl, nan, APN, POL,...</td>\n",
       "    </tr>\n",
       "    <tr>\n",
       "      <th>755434585</th>\n",
       "      <td>2019-10-03T00:00:00Z</td>\n",
       "      <td>730760270</td>\n",
       "      <td>brain_observatory_1.1</td>\n",
       "      <td>100.0</td>\n",
       "      <td>M</td>\n",
       "      <td>Vip-IRES-Cre/wt;Ai32(RCL-ChR2(H134R)_EYFP)/wt</td>\n",
       "      <td>650</td>\n",
       "      <td>2220</td>\n",
       "      <td>6</td>\n",
       "      <td>[grey, VISrl, nan, MGv, MGd, TH, LGd, CA3, DG,...</td>\n",
       "    </tr>\n",
       "    <tr>\n",
       "      <th>762120172</th>\n",
       "      <td>2019-10-03T00:00:00Z</td>\n",
       "      <td>745276236</td>\n",
       "      <td>brain_observatory_1.1</td>\n",
       "      <td>100.0</td>\n",
       "      <td>M</td>\n",
       "      <td>Vip-IRES-Cre/wt;Ai32(RCL-ChR2(H134R)_EYFP)/wt</td>\n",
       "      <td>717</td>\n",
       "      <td>1860</td>\n",
       "      <td>5</td>\n",
       "      <td>[grey, VISal, nan, VISl, VISp, VIS, VISam]</td>\n",
       "    </tr>\n",
       "    <tr>\n",
       "      <th>791319847</th>\n",
       "      <td>2019-10-03T00:00:00Z</td>\n",
       "      <td>769360779</td>\n",
       "      <td>brain_observatory_1.1</td>\n",
       "      <td>116.0</td>\n",
       "      <td>M</td>\n",
       "      <td>Vip-IRES-Cre/wt;Ai32(RCL-ChR2(H134R)_EYFP)/wt</td>\n",
       "      <td>555</td>\n",
       "      <td>2229</td>\n",
       "      <td>6</td>\n",
       "      <td>[APN, DG, CA1, VISam, nan, LP, TH, VISpm, POL,...</td>\n",
       "    </tr>\n",
       "    <tr>\n",
       "      <th>798911424</th>\n",
       "      <td>2019-10-03T00:00:00Z</td>\n",
       "      <td>775876828</td>\n",
       "      <td>brain_observatory_1.1</td>\n",
       "      <td>110.0</td>\n",
       "      <td>F</td>\n",
       "      <td>Vip-IRES-Cre/wt;Ai32(RCL-ChR2(H134R)_EYFP)/wt</td>\n",
       "      <td>825</td>\n",
       "      <td>2233</td>\n",
       "      <td>6</td>\n",
       "      <td>[APN, TH, Eth, LP, DG, HPF, CA3, CA1, VISrl, n...</td>\n",
       "    </tr>\n",
       "    <tr>\n",
       "      <th>816200189</th>\n",
       "      <td>2019-10-03T00:00:00Z</td>\n",
       "      <td>791857608</td>\n",
       "      <td>functional_connectivity</td>\n",
       "      <td>128.0</td>\n",
       "      <td>F</td>\n",
       "      <td>Vip-IRES-Cre/wt;Ai32(RCL-ChR2(H134R)_EYFP)/wt</td>\n",
       "      <td>634</td>\n",
       "      <td>1857</td>\n",
       "      <td>5</td>\n",
       "      <td>[MRN, APN, MB, DG, CA1, VISam, nan, LP, VISpm,...</td>\n",
       "    </tr>\n",
       "    <tr>\n",
       "      <th>819701982</th>\n",
       "      <td>2019-10-03T00:00:00Z</td>\n",
       "      <td>795770036</td>\n",
       "      <td>functional_connectivity</td>\n",
       "      <td>135.0</td>\n",
       "      <td>F</td>\n",
       "      <td>Vip-IRES-Cre/wt;Ai32(RCL-ChR2(H134R)_EYFP)/wt</td>\n",
       "      <td>585</td>\n",
       "      <td>1852</td>\n",
       "      <td>5</td>\n",
       "      <td>[MB, SCiw, SCig, PPT, NOT, SUB, ProS, CA1, VIS...</td>\n",
       "    </tr>\n",
       "    <tr>\n",
       "      <th>835479236</th>\n",
       "      <td>2019-10-03T00:00:00Z</td>\n",
       "      <td>813701562</td>\n",
       "      <td>functional_connectivity</td>\n",
       "      <td>121.0</td>\n",
       "      <td>M</td>\n",
       "      <td>Vip-IRES-Cre/wt;Ai32(RCL-ChR2(H134R)_EYFP)/wt</td>\n",
       "      <td>582</td>\n",
       "      <td>1857</td>\n",
       "      <td>5</td>\n",
       "      <td>[LP, DG, CA1, VISmmp, nan, SCiw, SCig, SCop, S...</td>\n",
       "    </tr>\n",
       "  </tbody>\n",
       "</table>\n",
       "</div>"
      ],
      "text/plain": [
       "                   published_at  specimen_id             session_type  \\\n",
       "id                                                                      \n",
       "751348571  2019-10-03T00:00:00Z    732548380    brain_observatory_1.1   \n",
       "755434585  2019-10-03T00:00:00Z    730760270    brain_observatory_1.1   \n",
       "762120172  2019-10-03T00:00:00Z    745276236    brain_observatory_1.1   \n",
       "791319847  2019-10-03T00:00:00Z    769360779    brain_observatory_1.1   \n",
       "798911424  2019-10-03T00:00:00Z    775876828    brain_observatory_1.1   \n",
       "816200189  2019-10-03T00:00:00Z    791857608  functional_connectivity   \n",
       "819701982  2019-10-03T00:00:00Z    795770036  functional_connectivity   \n",
       "835479236  2019-10-03T00:00:00Z    813701562  functional_connectivity   \n",
       "\n",
       "           age_in_days sex                                  full_genotype  \\\n",
       "id                                                                          \n",
       "751348571         93.0   F  Vip-IRES-Cre/wt;Ai32(RCL-ChR2(H134R)_EYFP)/wt   \n",
       "755434585        100.0   M  Vip-IRES-Cre/wt;Ai32(RCL-ChR2(H134R)_EYFP)/wt   \n",
       "762120172        100.0   M  Vip-IRES-Cre/wt;Ai32(RCL-ChR2(H134R)_EYFP)/wt   \n",
       "791319847        116.0   M  Vip-IRES-Cre/wt;Ai32(RCL-ChR2(H134R)_EYFP)/wt   \n",
       "798911424        110.0   F  Vip-IRES-Cre/wt;Ai32(RCL-ChR2(H134R)_EYFP)/wt   \n",
       "816200189        128.0   F  Vip-IRES-Cre/wt;Ai32(RCL-ChR2(H134R)_EYFP)/wt   \n",
       "819701982        135.0   F  Vip-IRES-Cre/wt;Ai32(RCL-ChR2(H134R)_EYFP)/wt   \n",
       "835479236        121.0   M  Vip-IRES-Cre/wt;Ai32(RCL-ChR2(H134R)_EYFP)/wt   \n",
       "\n",
       "           unit_count  channel_count  probe_count  \\\n",
       "id                                                  \n",
       "751348571         859           2217            6   \n",
       "755434585         650           2220            6   \n",
       "762120172         717           1860            5   \n",
       "791319847         555           2229            6   \n",
       "798911424         825           2233            6   \n",
       "816200189         634           1857            5   \n",
       "819701982         585           1852            5   \n",
       "835479236         582           1857            5   \n",
       "\n",
       "                                  ecephys_structure_acronyms  \n",
       "id                                                            \n",
       "751348571  [grey, LGv, CA3, DG, CA1, VISl, nan, APN, POL,...  \n",
       "755434585  [grey, VISrl, nan, MGv, MGd, TH, LGd, CA3, DG,...  \n",
       "762120172         [grey, VISal, nan, VISl, VISp, VIS, VISam]  \n",
       "791319847  [APN, DG, CA1, VISam, nan, LP, TH, VISpm, POL,...  \n",
       "798911424  [APN, TH, Eth, LP, DG, HPF, CA3, CA1, VISrl, n...  \n",
       "816200189  [MRN, APN, MB, DG, CA1, VISam, nan, LP, VISpm,...  \n",
       "819701982  [MB, SCiw, SCig, PPT, NOT, SUB, ProS, CA1, VIS...  \n",
       "835479236  [LP, DG, CA1, VISmmp, nan, SCiw, SCig, SCop, S...  "
      ]
     },
     "execution_count": 8,
     "metadata": {},
     "output_type": "execute_result"
    }
   ],
   "source": [
    "vip_sessions = sessions[sessions.full_genotype.str.match('Vip')]\n",
    "\n",
    "vip_sessions"
   ]
  },
  {
   "cell_type": "markdown",
   "metadata": {},
   "source": [
    "In order to extract information about the optotagging stimuli that were delivered, the following code loads one of the VIP sessions above and returns a table showing info about each optotagging trial."
   ]
  },
  {
   "cell_type": "code",
   "execution_count": 9,
   "metadata": {},
   "outputs": [
    {
     "data": {
      "text/html": [
       "<div>\n",
       "<style scoped>\n",
       "    .dataframe tbody tr th:only-of-type {\n",
       "        vertical-align: middle;\n",
       "    }\n",
       "\n",
       "    .dataframe tbody tr th {\n",
       "        vertical-align: top;\n",
       "    }\n",
       "\n",
       "    .dataframe thead th {\n",
       "        text-align: right;\n",
       "    }\n",
       "</style>\n",
       "<table border=\"1\" class=\"dataframe\">\n",
       "  <thead>\n",
       "    <tr style=\"text-align: right;\">\n",
       "      <th></th>\n",
       "      <th>start_time</th>\n",
       "      <th>condition</th>\n",
       "      <th>level</th>\n",
       "      <th>stop_time</th>\n",
       "      <th>stimulus_name</th>\n",
       "      <th>duration</th>\n",
       "    </tr>\n",
       "    <tr>\n",
       "      <th>id</th>\n",
       "      <th></th>\n",
       "      <th></th>\n",
       "      <th></th>\n",
       "      <th></th>\n",
       "      <th></th>\n",
       "      <th></th>\n",
       "    </tr>\n",
       "  </thead>\n",
       "  <tbody>\n",
       "    <tr>\n",
       "      <th>0</th>\n",
       "      <td>9208.77074</td>\n",
       "      <td>a single square pulse</td>\n",
       "      <td>1.3</td>\n",
       "      <td>9208.78074</td>\n",
       "      <td>pulse</td>\n",
       "      <td>0.010</td>\n",
       "    </tr>\n",
       "    <tr>\n",
       "      <th>1</th>\n",
       "      <td>9210.75084</td>\n",
       "      <td>2.5 ms pulses at 10 Hz</td>\n",
       "      <td>1.3</td>\n",
       "      <td>9211.75084</td>\n",
       "      <td>fast_pulses</td>\n",
       "      <td>1.000</td>\n",
       "    </tr>\n",
       "    <tr>\n",
       "      <th>2</th>\n",
       "      <td>9212.69089</td>\n",
       "      <td>a single square pulse</td>\n",
       "      <td>2.0</td>\n",
       "      <td>9212.70089</td>\n",
       "      <td>pulse</td>\n",
       "      <td>0.010</td>\n",
       "    </tr>\n",
       "    <tr>\n",
       "      <th>3</th>\n",
       "      <td>9214.77096</td>\n",
       "      <td>2.5 ms pulses at 10 Hz</td>\n",
       "      <td>1.3</td>\n",
       "      <td>9215.77096</td>\n",
       "      <td>fast_pulses</td>\n",
       "      <td>1.000</td>\n",
       "    </tr>\n",
       "    <tr>\n",
       "      <th>4</th>\n",
       "      <td>9216.70105</td>\n",
       "      <td>a single square pulse</td>\n",
       "      <td>1.3</td>\n",
       "      <td>9216.71105</td>\n",
       "      <td>pulse</td>\n",
       "      <td>0.010</td>\n",
       "    </tr>\n",
       "    <tr>\n",
       "      <th>...</th>\n",
       "      <td>...</td>\n",
       "      <td>...</td>\n",
       "      <td>...</td>\n",
       "      <td>...</td>\n",
       "      <td>...</td>\n",
       "      <td>...</td>\n",
       "    </tr>\n",
       "    <tr>\n",
       "      <th>604</th>\n",
       "      <td>10525.66080</td>\n",
       "      <td>a single square pulse</td>\n",
       "      <td>1.3</td>\n",
       "      <td>10525.66580</td>\n",
       "      <td>pulse</td>\n",
       "      <td>0.005</td>\n",
       "    </tr>\n",
       "    <tr>\n",
       "      <th>605</th>\n",
       "      <td>10527.58090</td>\n",
       "      <td>half-period of a cosine wave</td>\n",
       "      <td>1.3</td>\n",
       "      <td>10528.58090</td>\n",
       "      <td>raised_cosine</td>\n",
       "      <td>1.000</td>\n",
       "    </tr>\n",
       "    <tr>\n",
       "      <th>606</th>\n",
       "      <td>10529.41093</td>\n",
       "      <td>a single square pulse</td>\n",
       "      <td>1.3</td>\n",
       "      <td>10529.42093</td>\n",
       "      <td>pulse</td>\n",
       "      <td>0.010</td>\n",
       "    </tr>\n",
       "    <tr>\n",
       "      <th>607</th>\n",
       "      <td>10531.59105</td>\n",
       "      <td>a single square pulse</td>\n",
       "      <td>1.3</td>\n",
       "      <td>10531.60105</td>\n",
       "      <td>pulse</td>\n",
       "      <td>0.010</td>\n",
       "    </tr>\n",
       "    <tr>\n",
       "      <th>608</th>\n",
       "      <td>10533.40110</td>\n",
       "      <td>2.5 ms pulses at 10 Hz</td>\n",
       "      <td>2.0</td>\n",
       "      <td>10534.40110</td>\n",
       "      <td>fast_pulses</td>\n",
       "      <td>1.000</td>\n",
       "    </tr>\n",
       "  </tbody>\n",
       "</table>\n",
       "<p>609 rows × 6 columns</p>\n",
       "</div>"
      ],
      "text/plain": [
       "      start_time                     condition  level    stop_time  \\\n",
       "id                                                                   \n",
       "0     9208.77074         a single square pulse    1.3   9208.78074   \n",
       "1     9210.75084        2.5 ms pulses at 10 Hz    1.3   9211.75084   \n",
       "2     9212.69089         a single square pulse    2.0   9212.70089   \n",
       "3     9214.77096        2.5 ms pulses at 10 Hz    1.3   9215.77096   \n",
       "4     9216.70105         a single square pulse    1.3   9216.71105   \n",
       "..           ...                           ...    ...          ...   \n",
       "604  10525.66080         a single square pulse    1.3  10525.66580   \n",
       "605  10527.58090  half-period of a cosine wave    1.3  10528.58090   \n",
       "606  10529.41093         a single square pulse    1.3  10529.42093   \n",
       "607  10531.59105         a single square pulse    1.3  10531.60105   \n",
       "608  10533.40110        2.5 ms pulses at 10 Hz    2.0  10534.40110   \n",
       "\n",
       "     stimulus_name  duration  \n",
       "id                            \n",
       "0            pulse     0.010  \n",
       "1      fast_pulses     1.000  \n",
       "2            pulse     0.010  \n",
       "3      fast_pulses     1.000  \n",
       "4            pulse     0.010  \n",
       "..             ...       ...  \n",
       "604          pulse     0.005  \n",
       "605  raised_cosine     1.000  \n",
       "606          pulse     0.010  \n",
       "607          pulse     0.010  \n",
       "608    fast_pulses     1.000  \n",
       "\n",
       "[609 rows x 6 columns]"
      ]
     },
     "execution_count": 9,
     "metadata": {},
     "output_type": "execute_result"
    }
   ],
   "source": [
    "session = cache.get_session_data(vip_sessions.index.values[-3])\n",
    "session.optogenetic_stimulation_epochs"
   ]
  },
  {
   "cell_type": "markdown",
   "metadata": {},
   "source": [
    "The following code returns a table showing the unique optotagging stimuli conditions across all trials."
   ]
  },
  {
   "cell_type": "code",
   "execution_count": 10,
   "metadata": {},
   "outputs": [
    {
     "data": {
      "text/html": [
       "<div>\n",
       "<style scoped>\n",
       "    .dataframe tbody tr th:only-of-type {\n",
       "        vertical-align: middle;\n",
       "    }\n",
       "\n",
       "    .dataframe tbody tr th {\n",
       "        vertical-align: top;\n",
       "    }\n",
       "\n",
       "    .dataframe thead th {\n",
       "        text-align: right;\n",
       "    }\n",
       "</style>\n",
       "<table border=\"1\" class=\"dataframe\">\n",
       "  <thead>\n",
       "    <tr style=\"text-align: right;\">\n",
       "      <th></th>\n",
       "      <th>condition</th>\n",
       "      <th>level</th>\n",
       "      <th>stimulus_name</th>\n",
       "      <th>duration</th>\n",
       "    </tr>\n",
       "    <tr>\n",
       "      <th>id</th>\n",
       "      <th></th>\n",
       "      <th></th>\n",
       "      <th></th>\n",
       "      <th></th>\n",
       "    </tr>\n",
       "  </thead>\n",
       "  <tbody>\n",
       "    <tr>\n",
       "      <th>1</th>\n",
       "      <td>2.5 ms pulses at 10 Hz</td>\n",
       "      <td>1.3</td>\n",
       "      <td>fast_pulses</td>\n",
       "      <td>1.000</td>\n",
       "    </tr>\n",
       "    <tr>\n",
       "      <th>25</th>\n",
       "      <td>2.5 ms pulses at 10 Hz</td>\n",
       "      <td>1.7</td>\n",
       "      <td>fast_pulses</td>\n",
       "      <td>1.000</td>\n",
       "    </tr>\n",
       "    <tr>\n",
       "      <th>20</th>\n",
       "      <td>2.5 ms pulses at 10 Hz</td>\n",
       "      <td>2.0</td>\n",
       "      <td>fast_pulses</td>\n",
       "      <td>1.000</td>\n",
       "    </tr>\n",
       "    <tr>\n",
       "      <th>38</th>\n",
       "      <td>a single square pulse</td>\n",
       "      <td>1.3</td>\n",
       "      <td>pulse</td>\n",
       "      <td>0.005</td>\n",
       "    </tr>\n",
       "    <tr>\n",
       "      <th>11</th>\n",
       "      <td>a single square pulse</td>\n",
       "      <td>1.7</td>\n",
       "      <td>pulse</td>\n",
       "      <td>0.005</td>\n",
       "    </tr>\n",
       "    <tr>\n",
       "      <th>6</th>\n",
       "      <td>a single square pulse</td>\n",
       "      <td>2.0</td>\n",
       "      <td>pulse</td>\n",
       "      <td>0.005</td>\n",
       "    </tr>\n",
       "    <tr>\n",
       "      <th>0</th>\n",
       "      <td>a single square pulse</td>\n",
       "      <td>1.3</td>\n",
       "      <td>pulse</td>\n",
       "      <td>0.010</td>\n",
       "    </tr>\n",
       "    <tr>\n",
       "      <th>9</th>\n",
       "      <td>a single square pulse</td>\n",
       "      <td>1.7</td>\n",
       "      <td>pulse</td>\n",
       "      <td>0.010</td>\n",
       "    </tr>\n",
       "    <tr>\n",
       "      <th>2</th>\n",
       "      <td>a single square pulse</td>\n",
       "      <td>2.0</td>\n",
       "      <td>pulse</td>\n",
       "      <td>0.010</td>\n",
       "    </tr>\n",
       "    <tr>\n",
       "      <th>7</th>\n",
       "      <td>half-period of a cosine wave</td>\n",
       "      <td>1.3</td>\n",
       "      <td>raised_cosine</td>\n",
       "      <td>1.000</td>\n",
       "    </tr>\n",
       "    <tr>\n",
       "      <th>10</th>\n",
       "      <td>half-period of a cosine wave</td>\n",
       "      <td>1.7</td>\n",
       "      <td>raised_cosine</td>\n",
       "      <td>1.000</td>\n",
       "    </tr>\n",
       "    <tr>\n",
       "      <th>19</th>\n",
       "      <td>half-period of a cosine wave</td>\n",
       "      <td>2.0</td>\n",
       "      <td>raised_cosine</td>\n",
       "      <td>1.000</td>\n",
       "    </tr>\n",
       "  </tbody>\n",
       "</table>\n",
       "</div>"
      ],
      "text/plain": [
       "                       condition  level  stimulus_name  duration\n",
       "id                                                              \n",
       "1         2.5 ms pulses at 10 Hz    1.3    fast_pulses     1.000\n",
       "25        2.5 ms pulses at 10 Hz    1.7    fast_pulses     1.000\n",
       "20        2.5 ms pulses at 10 Hz    2.0    fast_pulses     1.000\n",
       "38         a single square pulse    1.3          pulse     0.005\n",
       "11         a single square pulse    1.7          pulse     0.005\n",
       "6          a single square pulse    2.0          pulse     0.005\n",
       "0          a single square pulse    1.3          pulse     0.010\n",
       "9          a single square pulse    1.7          pulse     0.010\n",
       "2          a single square pulse    2.0          pulse     0.010\n",
       "7   half-period of a cosine wave    1.3  raised_cosine     1.000\n",
       "10  half-period of a cosine wave    1.7  raised_cosine     1.000\n",
       "19  half-period of a cosine wave    2.0  raised_cosine     1.000"
      ]
     },
     "execution_count": 10,
     "metadata": {},
     "output_type": "execute_result"
    }
   ],
   "source": [
    "columns = ['stimulus_name', 'duration','level']\n",
    "\n",
    "session.optogenetic_stimulation_epochs.drop_duplicates(columns).sort_values(by=columns).drop(columns=['start_time','stop_time'])\n"
   ]
  },
  {
   "cell_type": "markdown",
   "metadata": {},
   "source": [
    "Since the Allen Institute switched from delivering light through an LED to a laser a little more than halfway through their data collections, the following code filters experiments to determine which ones used a laser. A laser evokes a stronger optotagging response than an LED."
   ]
  },
  {
   "cell_type": "code",
   "execution_count": 11,
   "metadata": {},
   "outputs": [
    {
     "data": {
      "text/plain": [
       "array([False, False, False, False, False, False, False, False, False,\n",
       "       False, False, False,  True,  True,  True,  True,  True,  True,\n",
       "        True,  True,  True,  True,  True,  True,  True,  True,  True,\n",
       "        True,  True,  True,  True,  True,  True,  True,  True,  True,\n",
       "        True,  True,  True,  True,  True,  True,  True,  True,  True,\n",
       "        True,  True,  True,  True,  True,  True,  True,  True,  True,\n",
       "        True,  True,  True,  True])"
      ]
     },
     "execution_count": 11,
     "metadata": {},
     "output_type": "execute_result"
    }
   ],
   "source": [
    "sessions.index.values >= 751348571"
   ]
  },
  {
   "cell_type": "markdown",
   "metadata": {},
   "source": [
    "For a certain stimulus condition (10 ms pulses) and set of units (visual cortex only), the following code creates a DataArray with binned spikes aligned to the start of each stimulus. This code did not run correctly and will have to be troubleshooted in lab."
   ]
  },
  {
   "cell_type": "code",
   "execution_count": 13,
   "metadata": {},
   "outputs": [],
   "source": [
    "import xarray as xr\n",
    "trials = session.optogenetic_stimulation_epochs[(session.optogenetic_stimulation_epochs.duration > 0.009) & \\\n",
    "                                                (session.optogenetic_stimulation_epochs.duration < 0.02)]\n",
    "\n",
    "units = session.units[session.units.ecephys_structure_acronym.str.match('VIS')]\n",
    "\n",
    "time_resolution = 0.0005 # 0.5 ms bins\n",
    "\n",
    "bin_edges = np.arange(-0.01, 0.025, time_resolution)\n",
    "\n",
    "def optotagging_spike_counts(bin_edges, trials, units):\n",
    "    \n",
    "    time_resolution = np.mean(np.diff(bin_edges))\n",
    "\n",
    "    spike_matrix = np.zeros( (len(trials), len(bin_edges), len(units)) )\n",
    "\n",
    "    for unit_idx, unit_id in enumerate(units.index.values):\n",
    "\n",
    "        spike_times = session.spike_times[unit_id]\n",
    "\n",
    "        for trial_idx, trial_start in enumerate(trials.start_time.values):\n",
    "\n",
    "            in_range = (spike_times > (trial_start + bin_edges[0])) * \\\n",
    "                       (spike_times < (trial_start + bin_edges[-1]))\n",
    "\n",
    "            binned_times = ((spike_times[in_range] - (trial_start + bin_edges[0])) / time_resolution).astype('int')\n",
    "            spike_matrix[trial_idx, binned_times, unit_idx] = 1\n",
    "\n",
    "    return xr.DataArray(\n",
    "        name='spike_counts',\n",
    "        data=spike_matrix,\n",
    "        coords={\n",
    "            'trial_id': trials.index.values,\n",
    "            'time_relative_to_stimulus_onset': bin_edges,\n",
    "            'unit_id': units.index.values\n",
    "        },\n",
    "        dims=['trial_id', 'time_relative_to_stimulus_onset', 'unit_id']\n",
    "    )\n",
    "\n",
    "da = optotagging_spike_counts(bin_edges, trials, units)"
   ]
  },
  {
   "cell_type": "markdown",
   "metadata": {},
   "source": [
    "The following code uses the DataArray from above to plot the average firing rate for each unit over time. Given that the DataArray from the above code did not run, the following code also shows an error."
   ]
  },
  {
   "cell_type": "code",
   "execution_count": 14,
   "metadata": {},
   "outputs": [
    {
     "data": {
      "image/png": "[encoded data removed]",
      "text/plain": [
       "<Figure size 360x720 with 2 Axes>"
      ]
     },
     "metadata": {
      "needs_background": "light"
     },
     "output_type": "display_data"
    }
   ],
   "source": [
    "def plot_optotagging_response(da):\n",
    "\n",
    "    plt.figure(figsize=(5,10))\n",
    "\n",
    "    plt.imshow(da.mean(dim='trial_id').T / time_resolution, \n",
    "               extent=[np.min(bin_edges), np.max(bin_edges),\n",
    "                       0, len(units)],\n",
    "               aspect='auto', vmin=0, vmax=200)    \n",
    "\n",
    "    for bound in [0.0005, 0.0095]:\n",
    "        plt.plot([bound, bound],[0, len(units)], ':', color='white', linewidth=1.0)\n",
    "\n",
    "    plt.xlabel('Time (s)')\n",
    "    plt.ylabel('Unit #')\n",
    "\n",
    "    cb = plt.colorbar(fraction=0.046, pad=0.04)\n",
    "    cb.set_label('Mean firing rate (Hz)')\n",
    "    \n",
    "plot_optotagging_response(da)"
   ]
  },
  {
   "cell_type": "markdown",
   "metadata": {},
   "source": [
    "## Identifying Cre+ units"
   ]
  },
  {
   "cell_type": "code",
   "execution_count": 15,
   "metadata": {},
   "outputs": [],
   "source": [
    "baseline = da.sel(time_relative_to_stimulus_onset=slice(-0.01,-0.002))\n",
    "\n",
    "baseline_rate = baseline.sum(dim='time_relative_to_stimulus_onset').mean(dim='trial_id') / 0.008\n",
    "\n",
    "evoked = da.sel(time_relative_to_stimulus_onset=slice(0.001,0.009))\n",
    "\n",
    "evoked_rate = evoked.sum(dim='time_relative_to_stimulus_onset').mean(dim='trial_id') / 0.008"
   ]
  },
  {
   "cell_type": "markdown",
   "metadata": {},
   "source": [
    "The following code searches for units that increase their firing rate during the 10 ms pulse using the DataArray from above, and then creates a plot of these units. The following code also returns an error since the DataArray code did not run."
   ]
  },
  {
   "cell_type": "code",
   "execution_count": 16,
   "metadata": {},
   "outputs": [],
   "source": [
    "baseline = da.sel(time_relative_to_stimulus_onset=slice(-0.01,-0.002))\n",
    "\n",
    "baseline_rate = baseline.sum(dim='time_relative_to_stimulus_onset').mean(dim='trial_id') / 0.008\n",
    "\n",
    "evoked = da.sel(time_relative_to_stimulus_onset=slice(0.001,0.009))\n",
    "\n",
    "evoked_rate = evoked.sum(dim='time_relative_to_stimulus_onset').mean(dim='trial_id') / 0.008"
   ]
  },
  {
   "cell_type": "code",
   "execution_count": 17,
   "metadata": {},
   "outputs": [
    {
     "data": {
      "image/png": "[encoded data removed]",
      "text/plain": [
       "<Figure size 360x360 with 1 Axes>"
      ]
     },
     "metadata": {
      "needs_background": "light"
     },
     "output_type": "display_data"
    }
   ],
   "source": [
    "plt.figure(figsize=(5,5))\n",
    "\n",
    "plt.scatter(baseline_rate, evoked_rate, s=3)\n",
    "\n",
    "axis_limit = 250\n",
    "plt.plot([0,axis_limit],[0,axis_limit], ':k')\n",
    "plt.plot([0,axis_limit],[0,axis_limit*2], ':r')\n",
    "plt.xlim([0,axis_limit])\n",
    "plt.ylim([0,axis_limit])\n",
    "\n",
    "plt.xlabel('Baseline rate (Hz)')\n",
    "_ = plt.ylabel('Evoked rate (Hz)')"
   ]
  },
  {
   "cell_type": "markdown",
   "metadata": {},
   "source": [
    "The following code will create an array of Unit IDs for VIP+ units for a certain threshold (a 2 times increase in firing rate). It does not run because the DataArray code did not run. Additionally, we will have to edit our code to create one array of Unit IDs for each sex."
   ]
  },
  {
   "cell_type": "code",
   "execution_count": 18,
   "metadata": {},
   "outputs": [
    {
     "data": {
      "text/plain": [
       "array([951139070, 951139608, 951139999, 951147908, 951148243, 951160317])"
      ]
     },
     "execution_count": 18,
     "metadata": {},
     "output_type": "execute_result"
    }
   ],
   "source": [
    "cre_pos_units = da.unit_id[(evoked_rate / (baseline_rate + 1)) > 2].values # add 1 to prevent divide-by-zero errors\n",
    "\n",
    "cre_pos_units"
   ]
  },
  {
   "cell_type": "markdown",
   "metadata": {},
   "source": [
    "## Resources:\n",
    "Optotagging analysis code was from Optotagging Analysis from the Allen Institute for Brain Science: https://allensdk.readthedocs.io/en/latest/_static/examples/nb/ecephys_optotagging.html\n",
    "\n",
    "Markdown text and code for this Jupyter notebook were from the Neuropixels Visual Coding Tutorial from Allen Institute for Brain Science: https://github.com/AllenInstitute/brain_observatory_examples/blob/master/Open%20for%20NeuroScience%202020/Open%20for%20(Neuro)Science%202021%20-%20Neuropixels%20Visual%20Coding%20ANSWER%20KEY.ipynb\n",
    "\n",
    "\n",
    "Siegle et al., 2021: https://github.com/AllenInstitute/neuropixels_platform_paper/blob/master/Figure1/Figure1c.py\n",
    "\n",
    "### Sample Allen Jupyter Notebooks to get started:\n",
    "https://allensdk.readthedocs.io/en/latest/visual_behavior_optical_physiology.html\n",
    "https://allensdk.readthedocs.io/en/latest/visual_coding_neuropixels.html"
   ]
  },
  {
   "cell_type": "code",
   "execution_count": null,
   "metadata": {},
   "outputs": [],
   "source": []
  }
 ],
 "metadata": {
  "kernelspec": {
   "display_name": "Python 3",
   "language": "python",
   "name": "python3"
  },
  "language_info": {
   "codemirror_mode": {
    "name": "ipython",
    "version": 3
   },
   "file_extension": ".py",
   "mimetype": "text/x-python",
   "name": "python",
   "nbconvert_exporter": "python",
   "pygments_lexer": "ipython3",
   "version": "3.7.4"
  }
 },
 "nbformat": 4,
 "nbformat_minor": 5
}
